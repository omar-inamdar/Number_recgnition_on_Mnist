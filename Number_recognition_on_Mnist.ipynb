{
  "nbformat": 4,
  "nbformat_minor": 0,
  "metadata": {
    "colab": {
      "provenance": [],
      "authorship_tag": "ABX9TyN1SW4qVeyavmelUAXshO/R",
      "include_colab_link": true
    },
    "kernelspec": {
      "name": "python3",
      "display_name": "Python 3"
    },
    "language_info": {
      "name": "python"
    }
  },
  "cells": [
    {
      "cell_type": "markdown",
      "metadata": {
        "id": "view-in-github",
        "colab_type": "text"
      },
      "source": [
        "<a href=\"https://colab.research.google.com/github/omar-inamdar/Number_recgnition_on_Mnist/blob/main/Number_recognition_on_Mnist.ipynb\" target=\"_parent\"><img src=\"https://colab.research.google.com/assets/colab-badge.svg\" alt=\"Open In Colab\"/></a>"
      ]
    },
    {
      "cell_type": "markdown",
      "source": [],
      "metadata": {
        "id": "sg60DKhREYcx"
      }
    },
    {
      "cell_type": "markdown",
      "source": [
        "IMPORTING LIBRARIES"
      ],
      "metadata": {
        "id": "haW1Pp5gEfUd"
      }
    },
    {
      "cell_type": "code",
      "execution_count": null,
      "metadata": {
        "id": "A1tv8uBRCzne"
      },
      "outputs": [],
      "source": [
        "from sklearn.datasets import fetch_openml\n",
        "import matplotlib\n",
        "import matplotlib.pyplot as plt\n",
        "import numpy as np\n",
        "from sklearn.linear_model import LogisticRegression\n",
        "from sklearn.model_selection import cross_val_score\n",
        "import warnings\n",
        "warnings.filterwarnings('ignore')"
      ]
    },
    {
      "cell_type": "markdown",
      "source": [
        "FETCHING FROM DATASET"
      ],
      "metadata": {
        "id": "SW-3LCcbEVQK"
      }
    },
    {
      "cell_type": "code",
      "source": [
        "mnist = fetch_openml('mnist_784')"
      ],
      "metadata": {
        "id": "FA6U1AFhDEu2"
      },
      "execution_count": null,
      "outputs": []
    },
    {
      "cell_type": "code",
      "source": [
        "x, y = mnist['data'], mnist['target']"
      ],
      "metadata": {
        "id": "fSJuZ34SDQhH"
      },
      "execution_count": null,
      "outputs": []
    },
    {
      "cell_type": "code",
      "source": [
        "some_digit = x.to_numpy()[36005]\n",
        "some_digit_image = some_digit.reshape(28, 28)"
      ],
      "metadata": {
        "id": "UnUAtI0iDZEg"
      },
      "execution_count": null,
      "outputs": []
    },
    {
      "cell_type": "code",
      "source": [
        "plt.imshow(some_digit_image, cmap=matplotlib.cm.binary,interpolation='nearest')\n",
        "plt.axis(\"off\")\n",
        "plt.show()"
      ],
      "metadata": {
        "colab": {
          "base_uri": "https://localhost:8080/",
          "height": 406
        },
        "id": "QJw_dVN6Dgep",
        "outputId": "c16608c5-961b-4a39-e5a4-33acd20e389b"
      },
      "execution_count": null,
      "outputs": [
        {
          "output_type": "display_data",
          "data": {
            "text/plain": [
              "<Figure size 640x480 with 1 Axes>"
            ],
            "image/png": "[encoded data removed]"
          },
          "metadata": {}
        }
      ]
    },
    {
      "cell_type": "code",
      "source": [
        "x_train, x_test = x[:60000], x[60000:70000]\n",
        "y_train, y_test = y[:60000], y[60000:70000]"
      ],
      "metadata": {
        "id": "CQH_yGAjDlMO"
      },
      "execution_count": null,
      "outputs": []
    },
    {
      "cell_type": "code",
      "source": [
        "shuffle_index = np.random.permutation(60000)\n",
        "x_train, y_train= x_train.iloc[shuffle_index], y_train.iloc[shuffle_index]"
      ],
      "metadata": {
        "id": "kZTQiCEIDowq"
      },
      "execution_count": null,
      "outputs": []
    },
    {
      "cell_type": "code",
      "source": [
        "y_train = y_train.astype(np.int8)\n",
        "y_test = y_test.astype(np.int8)\n",
        "y_train_2 = (y_train == 3)\n",
        "y_test_2 = (y_test == 3)"
      ],
      "metadata": {
        "id": "raYHWWBRDr7y"
      },
      "execution_count": null,
      "outputs": []
    },
    {
      "cell_type": "markdown",
      "source": [
        "BUILDING 2-DETECTOR"
      ],
      "metadata": {
        "id": "cK64jL7IELeB"
      }
    },
    {
      "cell_type": "markdown",
      "source": [
        "TRAINING A LOGISTIC REGRESSION CLASSIFIER"
      ],
      "metadata": {
        "id": "RWu6T4PjEEw0"
      }
    },
    {
      "cell_type": "code",
      "source": [
        "clf = LogisticRegression(tol=0.1)\n",
        "clf.fit(x_train, y_train_2)\n",
        "example = clf.predict([some_digit])\n",
        "print(example)\n"
      ],
      "metadata": {
        "colab": {
          "base_uri": "https://localhost:8080/"
        },
        "id": "qKm0CrflDxDU",
        "outputId": "e801bf75-1721-4108-aecf-7ae26a846efb"
      },
      "execution_count": null,
      "outputs": [
        {
          "output_type": "stream",
          "name": "stdout",
          "text": [
            "[ True]\n"
          ]
        }
      ]
    },
    {
      "cell_type": "markdown",
      "source": [
        "CROSS VALIDATION"
      ],
      "metadata": {
        "id": "EtGWPiESECK9"
      }
    },
    {
      "cell_type": "code",
      "source": [
        "a = cross_val_score(clf, x_train, y_train_2, cv=3, scoring=\"accuracy\")\n",
        "print(a.mean())"
      ],
      "metadata": {
        "colab": {
          "base_uri": "https://localhost:8080/"
        },
        "id": "UlQZBzqGD2gw",
        "outputId": "908a0623-9fd4-4dd4-f936-60ab334b6c8f"
      },
      "execution_count": null,
      "outputs": [
        {
          "output_type": "stream",
          "name": "stdout",
          "text": [
            "0.9712999999999999\n"
          ]
        }
      ]
    },
    {
      "cell_type": "markdown",
      "source": [
        "END"
      ],
      "metadata": {
        "id": "DenzC2sGD-BV"
      }
    }
  ]
}